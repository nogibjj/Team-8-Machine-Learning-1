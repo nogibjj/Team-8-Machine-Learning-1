{
 "cells": [
  {
   "cell_type": "code",
   "execution_count": 1,
   "metadata": {},
   "outputs": [],
   "source": [
    "import pandas as pd\n",
    "import os"
   ]
  },
  {
   "cell_type": "code",
   "execution_count": 7,
   "metadata": {},
   "outputs": [],
   "source": [
    "similar_images_df = pd.read_csv('/workspaces/Team-8-Machine-Learning-1/preprocessing/dict_of_similar_images.csv')\n",
    "similar_images_df.columns = ['image_1', 'image_2']\n",
    "similar_images_df['image_1'] = similar_images_df['image_1'].apply(os.path.normpath)\n",
    "similar_images_df['image_2'] = similar_images_df['image_2'].apply(os.path.normpath)\n",
    "images_to_delete = similar_images_df[similar_images_df.index % 2 == 0]\n",
    "images_to_delete = images_to_delete['image_1']"
   ]
  },
  {
   "cell_type": "code",
   "execution_count": 10,
   "metadata": {},
   "outputs": [],
   "source": [
    "images_to_delete = pd.DataFrame(images_to_delete)"
   ]
  },
  {
   "cell_type": "code",
   "execution_count": 12,
   "metadata": {},
   "outputs": [
    {
     "data": {
      "text/html": [
       "<div>\n",
       "<style scoped>\n",
       "    .dataframe tbody tr th:only-of-type {\n",
       "        vertical-align: middle;\n",
       "    }\n",
       "\n",
       "    .dataframe tbody tr th {\n",
       "        vertical-align: top;\n",
       "    }\n",
       "\n",
       "    .dataframe thead th {\n",
       "        text-align: right;\n",
       "    }\n",
       "</style>\n",
       "<table border=\"1\" class=\"dataframe\">\n",
       "  <thead>\n",
       "    <tr style=\"text-align: right;\">\n",
       "      <th></th>\n",
       "      <th>image_1</th>\n",
       "    </tr>\n",
       "  </thead>\n",
       "  <tbody>\n",
       "    <tr>\n",
       "      <th>0</th>\n",
       "      <td>/workspaces/Team-8-Machine-Learning/data/train...</td>\n",
       "    </tr>\n",
       "    <tr>\n",
       "      <th>2</th>\n",
       "      <td>/workspaces/Team-8-Machine-Learning/data/train...</td>\n",
       "    </tr>\n",
       "    <tr>\n",
       "      <th>4</th>\n",
       "      <td>/workspaces/Team-8-Machine-Learning/data/train...</td>\n",
       "    </tr>\n",
       "    <tr>\n",
       "      <th>6</th>\n",
       "      <td>/workspaces/Team-8-Machine-Learning/data/train...</td>\n",
       "    </tr>\n",
       "    <tr>\n",
       "      <th>8</th>\n",
       "      <td>/workspaces/Team-8-Machine-Learning/data/train...</td>\n",
       "    </tr>\n",
       "    <tr>\n",
       "      <th>...</th>\n",
       "      <td>...</td>\n",
       "    </tr>\n",
       "    <tr>\n",
       "      <th>3824</th>\n",
       "      <td>/workspaces/Team-8-Machine-Learning/data/test/...</td>\n",
       "    </tr>\n",
       "    <tr>\n",
       "      <th>3826</th>\n",
       "      <td>/workspaces/Team-8-Machine-Learning/data/test/...</td>\n",
       "    </tr>\n",
       "    <tr>\n",
       "      <th>3828</th>\n",
       "      <td>/workspaces/Team-8-Machine-Learning/data/test/...</td>\n",
       "    </tr>\n",
       "    <tr>\n",
       "      <th>3830</th>\n",
       "      <td>/workspaces/Team-8-Machine-Learning/data/test/...</td>\n",
       "    </tr>\n",
       "    <tr>\n",
       "      <th>3832</th>\n",
       "      <td>/workspaces/Team-8-Machine-Learning/data/test/...</td>\n",
       "    </tr>\n",
       "  </tbody>\n",
       "</table>\n",
       "<p>1917 rows × 1 columns</p>\n",
       "</div>"
      ],
      "text/plain": [
       "                                                image_1\n",
       "0     /workspaces/Team-8-Machine-Learning/data/train...\n",
       "2     /workspaces/Team-8-Machine-Learning/data/train...\n",
       "4     /workspaces/Team-8-Machine-Learning/data/train...\n",
       "6     /workspaces/Team-8-Machine-Learning/data/train...\n",
       "8     /workspaces/Team-8-Machine-Learning/data/train...\n",
       "...                                                 ...\n",
       "3824  /workspaces/Team-8-Machine-Learning/data/test/...\n",
       "3826  /workspaces/Team-8-Machine-Learning/data/test/...\n",
       "3828  /workspaces/Team-8-Machine-Learning/data/test/...\n",
       "3830  /workspaces/Team-8-Machine-Learning/data/test/...\n",
       "3832  /workspaces/Team-8-Machine-Learning/data/test/...\n",
       "\n",
       "[1917 rows x 1 columns]"
      ]
     },
     "execution_count": 12,
     "metadata": {},
     "output_type": "execute_result"
    }
   ],
   "source": [
    "images_to_delete"
   ]
  },
  {
   "cell_type": "code",
   "execution_count": 22,
   "metadata": {},
   "outputs": [],
   "source": [
    "import os\n",
    "import pandas as pd\n",
    "\n",
    "# Set the directories containing the images to delete\n",
    "delete_dirs = [\"/workspaces/Team-8-Machine-Learning/data_processed/test/angry/\", \n",
    "               \"/workspaces/Team-8-Machine-Learning/data_processed/train/angry\"]\n",
    "\n",
    "# Read the dataframe with the list of images to delete\n",
    "df = images_to_delete\n",
    "\n",
    "# Loop over each row in the dataframe\n",
    "for index, row in df.iterrows():\n",
    "    # Get the filename of the image to delete\n",
    "    filename = os.path.basename(row[\"image_1\"])\n",
    "    # Loop over each delete directory\n",
    "    for delete_dir in delete_dirs:\n",
    "        \n",
    "        # Loop over each subdirectory in the delete directory\n",
    "        for root, dirs, files in os.walk(delete_dir):\n",
    "            print('here')\n",
    "            # Loop over each file in the subdirectory\n",
    "            for file in files:\n",
    "                # Get the full path of the file\n",
    "                file_path = os.path.join(root, file)\n",
    "                print('file')\n",
    "                # Check if the file matches the filename to delete\n",
    "                if file == filename:\n",
    "                    # Delete the file\n",
    "                    os.remove(file_path)\n",
    "                    print(f\"Deleted file: {file_path}\")\n"
   ]
  },
  {
   "cell_type": "code",
   "execution_count": 25,
   "metadata": {},
   "outputs": [
    {
     "name": "stdout",
     "output_type": "stream",
     "text": [
      "Empty DataFrame\n",
      "Columns: [file_path, class_label]\n",
      "Index: []\n"
     ]
    }
   ],
   "source": [
    "import os\n",
    "import pandas as pd\n",
    "\n",
    "# Set the directory containing the images\n",
    "data_dir = \"/workspaces/Team-8-Machine-Learning/data_processed/\"\n",
    "\n",
    "# Initialize lists to store the file paths and class labels\n",
    "file_paths = []\n",
    "class_labels = []\n",
    "\n",
    "# Loop over each subdirectory in the data directory\n",
    "for root, dirs, files in os.walk(data_dir):\n",
    "    # Loop over each file in the subdirectory\n",
    "    for file in files:\n",
    "        # Get the full path of the file\n",
    "        file_path = os.path.join(root, file)\n",
    "        # Get the class label from the subdirectory name\n",
    "        class_label = os.path.basename(root)\n",
    "        # Append the file path and class label to the respective lists\n",
    "        file_paths.append(file_path)\n",
    "        class_labels.append(class_label)\n",
    "\n",
    "# Create a dataframe from the file paths and class labels\n",
    "df = pd.DataFrame({\"file_path\": file_paths, \"class_label\": class_labels})\n",
    "\n",
    "# Print the first few rows of the dataframe\n",
    "print(df.head())\n"
   ]
  },
  {
   "cell_type": "code",
   "execution_count": null,
   "metadata": {},
   "outputs": [],
   "source": []
  }
 ],
 "metadata": {
  "kernelspec": {
   "display_name": "Python 3",
   "language": "python",
   "name": "python3"
  },
  "language_info": {
   "codemirror_mode": {
    "name": "ipython",
    "version": 3
   },
   "file_extension": ".py",
   "mimetype": "text/x-python",
   "name": "python",
   "nbconvert_exporter": "python",
   "pygments_lexer": "ipython3",
   "version": "3.10.4"
  },
  "orig_nbformat": 4
 },
 "nbformat": 4,
 "nbformat_minor": 2
}
